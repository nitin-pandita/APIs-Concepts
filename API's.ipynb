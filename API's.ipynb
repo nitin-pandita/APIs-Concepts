{
 "cells": [
  {
   "cell_type": "code",
   "execution_count": 1,
   "id": "c1f5fc1d",
   "metadata": {},
   "outputs": [],
   "source": [
    "import requests"
   ]
  },
  {
   "cell_type": "code",
   "execution_count": 2,
   "id": "0d9fbf20",
   "metadata": {},
   "outputs": [],
   "source": [
    "response = requests.get('https://codingninjas.in/api/v3/courses')"
   ]
  },
  {
   "cell_type": "code",
   "execution_count": 3,
   "id": "7c16e20f",
   "metadata": {
    "scrolled": false
   },
   "outputs": [
    {
     "name": "stdout",
     "output_type": "stream",
     "text": [
      "200\n",
      "ISO-8859-1\n",
      "https://www.codingninjas.com:443/\n",
      "<class 'requests.structures.CaseInsensitiveDict'>\n",
      "{'Content-Type': 'text/html', 'Transfer-Encoding': 'chunked', 'Connection': 'keep-alive', 'x-amz-id-2': 'YRZwbkACCbFJwPitTV4CJYPQPPRm9VOIC2chg6c/cR/hg6jVnFPNdkHFLmroi+LDFHEkDbtKpQM=', 'x-amz-request-id': 'BDHAN9HZ7ZYNK9JB', 'Date': 'Fri, 14 Apr 2023 12:48:50 GMT', 'Last-Modified': 'Fri, 14 Apr 2023 12:37:55 GMT', 'ETag': 'W/\"e80545194a2f2d05ef1e078185d7ced7\"', 'Server': 'AmazonS3', 'Content-Encoding': 'br', 'Vary': 'Accept-Encoding', 'X-Cache': 'Hit from cloudfront', 'Via': '1.1 13cacaf041f81d18c39777fbcdf7705c.cloudfront.net (CloudFront)', 'X-Amz-Cf-Pop': 'DEL54-C1', 'X-Amz-Cf-Id': 'o1U90TMHo5g2x4492RX_Gbx8He00-vfGe_v-neeHtym7Iu6LvgK-2g==', 'Age': '55182', 'cache-control': 'must-revalidate, max-age=300'}\n",
      "Fri, 14 Apr 2023 12:37:55 GMT\n",
      "55182\n"
     ]
    }
   ],
   "source": [
    "print(response.status_code)\n",
    "print(response.encoding)\n",
    "# print(response.text)\n",
    "print(response.url)\n",
    "print(type(response.headers))\n",
    "print(response.headers)\n",
    "print(response.headers['Last-Modified'])\n",
    "print(response.headers['Age'])"
   ]
  },
  {
   "cell_type": "code",
   "execution_count": 15,
   "id": "607bb276",
   "metadata": {},
   "outputs": [
    {
     "name": "stdout",
     "output_type": "stream",
     "text": [
      "200\n"
     ]
    }
   ],
   "source": [
    "response = requests.get('http://api.open-notify.org/iss-now.json')\n",
    "\n",
    "print(response.status_code)"
   ]
  },
  {
   "cell_type": "code",
   "execution_count": 5,
   "id": "74137442",
   "metadata": {},
   "outputs": [
    {
     "name": "stdout",
     "output_type": "stream",
     "text": [
      "{'Content-Type': 'text/html', 'Transfer-Encoding': 'chunked', 'Connection': 'keep-alive', 'x-amz-id-2': 'YRZwbkACCbFJwPitTV4CJYPQPPRm9VOIC2chg6c/cR/hg6jVnFPNdkHFLmroi+LDFHEkDbtKpQM=', 'x-amz-request-id': 'BDHAN9HZ7ZYNK9JB', 'Date': 'Fri, 14 Apr 2023 12:48:50 GMT', 'Last-Modified': 'Fri, 14 Apr 2023 12:37:55 GMT', 'ETag': 'W/\"e80545194a2f2d05ef1e078185d7ced7\"', 'Server': 'AmazonS3', 'Content-Encoding': 'br', 'Vary': 'Accept-Encoding', 'X-Cache': 'Hit from cloudfront', 'Via': '1.1 13cacaf041f81d18c39777fbcdf7705c.cloudfront.net (CloudFront)', 'X-Amz-Cf-Pop': 'DEL54-C1', 'X-Amz-Cf-Id': 'o1U90TMHo5g2x4492RX_Gbx8He00-vfGe_v-neeHtym7Iu6LvgK-2g==', 'Age': '55182', 'cache-control': 'must-revalidate, max-age=300'}\n",
      "text/html\n"
     ]
    }
   ],
   "source": [
    "header = response.headers\n",
    "print(header)\n",
    "print(header['Content-Type'])\n",
    "# print('application/json')"
   ]
  },
  {
   "cell_type": "code",
   "execution_count": 5,
   "id": "984ddc93",
   "metadata": {},
   "outputs": [
    {
     "name": "stdout",
     "output_type": "stream",
     "text": [
      "{'Student': 'Mohit'}\n",
      "<class 'dict'>\n",
      "Mohit\n"
     ]
    }
   ],
   "source": [
    "import json\n",
    "json_data = '{\"Student\":\"Mohit\"}'\n",
    "python_data = json.loads(json_data)\n",
    "print(python_data)\n",
    "print(type(python_data))\n",
    "\n",
    "# getting the student name using the python dictonary\n",
    "print(python_data['Student'])"
   ]
  },
  {
   "cell_type": "code",
   "execution_count": 13,
   "id": "ade63add",
   "metadata": {},
   "outputs": [
    {
     "name": "stdout",
     "output_type": "stream",
     "text": [
      "<class 'int'>\n",
      "101\n"
     ]
    }
   ],
   "source": [
    "# for int value\n",
    "json_data = '{\"Rollno\" : 101}'\n",
    "python_data = json.loads(json_data)\n",
    "print(type(python_data['Rollno']))\n",
    "print(python_data['Rollno'])\n"
   ]
  },
  {
   "cell_type": "code",
   "execution_count": 14,
   "id": "1b0370a6",
   "metadata": {},
   "outputs": [
    {
     "name": "stdout",
     "output_type": "stream",
     "text": [
      "<class 'float'>\n",
      "101.0\n"
     ]
    }
   ],
   "source": [
    "# for float value\n",
    "json_data = '{\"Rollno\" : 101.0}'\n",
    "python_data = json.loads(json_data)\n",
    "print(type(python_data['Rollno']))\n",
    "print(python_data['Rollno'])"
   ]
  },
  {
   "cell_type": "code",
   "execution_count": null,
   "id": "86d4dc63",
   "metadata": {},
   "outputs": [],
   "source": []
  },
  {
   "cell_type": "code",
   "execution_count": 15,
   "id": "538b509d",
   "metadata": {},
   "outputs": [
    {
     "name": "stdout",
     "output_type": "stream",
     "text": [
      "<class 'NoneType'>\n",
      "None\n"
     ]
    }
   ],
   "source": [
    "# for null value\n",
    "json_data = '{\"Rollno\" : null}'\n",
    "python_data = json.loads(json_data)\n",
    "print(type(python_data['Rollno']))\n",
    "print(python_data['Rollno'])"
   ]
  },
  {
   "cell_type": "code",
   "execution_count": 20,
   "id": "ef923d4a",
   "metadata": {},
   "outputs": [
    {
     "name": "stdout",
     "output_type": "stream",
     "text": [
      "{'Name': 'Mohit', 'Rollno': '103'}\n",
      "<class 'dict'>\n",
      "Mohit\n"
     ]
    }
   ],
   "source": [
    "# creating for object\n",
    "json_data = '{\"Student\":{\"Name\":\"Mohit\",\"Rollno\":\"103\"}}'\n",
    "python_data = json.loads(json_data)\n",
    "print(python_data['Student'])\n",
    "print(type(python_data['Student']))\n",
    "Student_Details = python_data['Student']\n",
    "\n",
    "print(Student_Details['Name'])\n"
   ]
  }
 ],
 "metadata": {
  "kernelspec": {
   "display_name": "Python 3 (ipykernel)",
   "language": "python",
   "name": "python3"
  },
  "language_info": {
   "codemirror_mode": {
    "name": "ipython",
    "version": 3
   },
   "file_extension": ".py",
   "mimetype": "text/x-python",
   "name": "python",
   "nbconvert_exporter": "python",
   "pygments_lexer": "ipython3",
   "version": "3.10.10"
  }
 },
 "nbformat": 4,
 "nbformat_minor": 5
}
